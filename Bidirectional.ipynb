{
 "cells": [
  {
   "cell_type": "code",
   "execution_count": null,
   "metadata": {
    "execution": {
     "iopub.execute_input": "2022-11-12T07:32:17.577814Z",
     "iopub.status.busy": "2022-11-12T07:32:17.577439Z",
     "iopub.status.idle": "2022-11-12T07:32:17.588713Z",
     "shell.execute_reply": "2022-11-12T07:32:17.587710Z",
     "shell.execute_reply.started": "2022-11-12T07:32:17.577782Z"
    },
    "trusted": true
   },
   "outputs": [],
   "source": [
    "class BidirectionalLSTM(nn.Module):\n",
    "    def __init__(self,vocab_size,embedding_dim,hidden_dim):\n",
    "        super(BidirectionalLSTM,self).__init__()\n",
    "        self.hidden_dim = hidden_dim\n",
    "        self.vocab_size = vocab_size\n",
    "    \n",
    "       \n",
    "        self.embedding = nn.Embedding(vocab_size, embedding_dim)\n",
    "        \n",
    "        \n",
    "        self.lstm = nn.LSTM(input_size=embedding_dim,hidden_size=self.hidden_dim,\n",
    "                           num_layers=2, batch_first=True,bidirectional=True)\n",
    "        \n",
    "        \n",
    "        \n",
    "        self.dropout = nn.Dropout(0.3)\n",
    "    \n",
    "       \n",
    "        self.fc = nn.Linear(self.hidden_dim*2, 1)\n",
    "        self.sig = nn.Sigmoid()\n",
    "        \n",
    "    def forward(self,x):\n",
    "        batch_size = x.size(0)\n",
    "        h0 = torch.zeros((4,batch_size,self.hidden_dim))\n",
    "        c0 = torch.zeros((4,batch_size,self.hidden_dim))\n",
    "        \n",
    "        embeds = self.embedding(x)  \n",
    "     \n",
    "        lstm_out,_ = self.lstm(embeds,(h0,c0))\n",
    "    \n",
    "        \n",
    "        lstm_out = lstm_out.contiguous().view(-1, self.hidden_dim*2) \n",
    "       \n",
    "        out = self.dropout(lstm_out)\n",
    "        out = self.fc(out)\n",
    "    \n",
    "        \n",
    "        sig_out = self.sig(out)\n",
    "        \n",
    "        \n",
    "        sig_out = sig_out.view(batch_size, -1)\n",
    "\n",
    "        sig_out = sig_out[:, -1]\n",
    "        \n",
    "     \n",
    "        return sig_out"
   ]
  }
 ],
 "metadata": {
  "kernelspec": {
   "display_name": "Python 3.9.12 ('base': conda)",
   "language": "python",
   "name": "python3"
  },
  "language_info": {
   "name": "python",
   "version": "3.9.12"
  },
  "orig_nbformat": 4,
  "vscode": {
   "interpreter": {
    "hash": "c13bf578fbd3f2320ffc708084a01131afd109d10f1980d46a3edc8796c34d01"
   }
  }
 },
 "nbformat": 4,
 "nbformat_minor": 2
}
